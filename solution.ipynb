{
 "cells": [
  {
   "cell_type": "code",
   "execution_count": 114,
   "metadata": {
    "collapsed": true
   },
   "outputs": [],
   "source": [
    "from numpy import *\n",
    "from scipy.stats import beta\n",
    "import random\n",
    "import pandas as pd\n",
    "import numpy as np\n",
    "\n",
    "np.random.seed(42)"
   ]
  },
  {
   "cell_type": "code",
   "execution_count": 115,
   "metadata": {},
   "outputs": [],
   "source": [
    "data = pd.read_csv('Bandits income data.csv')"
   ]
  },
  {
   "cell_type": "code",
   "execution_count": 116,
   "metadata": {},
   "outputs": [],
   "source": [
    "class BetaBandit(object):\n",
    "    def __init__(self, num_options=3, prior=(1.0,1.0)):\n",
    "        self.trials = zeros(shape=(num_options,), dtype=int)\n",
    "        self.successes = zeros(shape=(num_options,), dtype=int)\n",
    "        self.num_options = num_options\n",
    "        self.prior = prior\n",
    "\n",
    "    def add_result(self, trial_id, success):\n",
    "        self.trials[trial_id] = self.trials[trial_id] + 1\n",
    "        self.successes[trial_id] = self.successes[trial_id] + success\n",
    "\n",
    "    def get_recommendation(self):\n",
    "        sampled_theta = []\n",
    "        for i in range(self.num_options):\n",
    "            #Construct beta distribution for posterior\n",
    "            dist = beta(self.prior[0]+self.successes[i],\n",
    "                        self.prior[1]+self.trials[i]-self.successes[i])\n",
    "            #Draw sample from beta distribution\n",
    "            sampled_theta += [ dist.rvs() ]\n",
    "        # Return the index of the sample with the largest value\n",
    "        return sampled_theta.index( max(sampled_theta) )\n"
   ]
  },
  {
   "cell_type": "code",
   "execution_count": 117,
   "metadata": {},
   "outputs": [],
   "source": [
    "bb = BetaBandit(3)\n",
    "datas_sample = data.sample(n=len(data))"
   ]
  },
  {
   "cell_type": "code",
   "execution_count": 118,
   "metadata": {},
   "outputs": [],
   "source": [
    "for row in  datas_sample[:10]:\n",
    "    bandit.add_result([0,1,2], row)\n",
    "\n",
    "    "
   ]
  },
  {
   "cell_type": "code",
   "execution_count": null,
   "metadata": {},
   "outputs": [
    {
     "data": {
      "text/plain": [
       "array([1, 1, 0], dtype=int64)"
      ]
     },
     "execution_count": 119,
     "metadata": {},
     "output_type": "execute_result"
    }
   ],
   "source": [
    "datas_sample.values[0]"
   ]
  },
  {
   "cell_type": "code",
   "execution_count": null,
   "metadata": {},
   "outputs": [],
   "source": [
    "N = 3000\n",
    "trials = zeros(shape=(N,3))\n",
    "successes = zeros(shape=(N,3))\n",
    "\n",
    "bb = BetaBandit()\n",
    "for i in range(N):\n",
    "    s = datas_sample[10:].sample().values\n",
    "    choice = bb.get_recommendation()\n",
    "    trials[choice] = trials[choice]+1\n",
    "    conv = s[0][choice]\n",
    "    bb.add_result(choice, conv)\n",
    "\n",
    "    trials[i] = bb.trials\n",
    "    successes[i] = bb.successes\n",
    "\n",
    "from pylab import *\n",
    "subplot(211)\n",
    "n = arange(N)+1\n",
    "loglog(n, trials[:,0], label=\"bandit 0\")\n",
    "loglog(n, trials[:,1], label=\"bandit 1\")\n",
    "loglog(n, trials[:,2], label=\"bandit 1\")\n",
    "\n",
    "legend()\n",
    "xlabel(\"Number of trials\")\n",
    "ylabel(\"Number of trials per bandit\")\n",
    "\n",
    "subplot(212)\n",
    "semilogx(n, (successes[:,0]+successes[:,1])/n, label=\"CTR\")\n",
    "xlabel(\"Number of trials\")\n",
    "ylabel(\"Successes\")\n",
    "\n",
    "\n",
    "legend()\n",
    "show()\n"
   ]
  },
  {
   "cell_type": "code",
   "execution_count": null,
   "metadata": {},
   "outputs": [],
   "source": []
  }
 ],
 "metadata": {
  "kernelspec": {
   "display_name": "Python 3",
   "language": "python",
   "name": "python3"
  },
  "language_info": {
   "codemirror_mode": {
    "name": "ipython",
    "version": 3
   },
   "file_extension": ".py",
   "mimetype": "text/x-python",
   "name": "python",
   "nbconvert_exporter": "python",
   "pygments_lexer": "ipython3",
   "version": "3.6.3"
  }
 },
 "nbformat": 4,
 "nbformat_minor": 2
}
